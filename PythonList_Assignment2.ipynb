{
 "cells": [
  {
   "cell_type": "markdown",
   "metadata": {},
   "source": [
    "Assignment/Task 2\n",
    "Is a list mutable? --  Yes\n",
    "Does a list need to be homogeneous? -- No it can be heterogeneous\n",
    "\n",
    "What is the difference between a list and a tuple. - List is mutable and tuple is immutable\n",
    "\n",
    "How to find the number of elements in the list? - len(listname)\n",
    "How to check whether the list is empty or not? - check with [not listname]. If it returns true it is empty\n",
    "How to find the first and last element of the list? - listname[0] and listname[-1]\n",
    "How to find the largest and lowest value in the list? - min(listname) and max(listname)\n",
    "How to access elements of the list? - By idexing or looping\n",
    "Remove elements in a list before a specific index \n",
    "Remove elements in a list between 2 indices\n",
    "Return every 2nd element in a list between 2 indices\n",
    "\n",
    "Get the first element from each nested list in a list\n",
    "\n",
    "How to modify elements of the list? \n",
    "How to concatenate two lists?\n",
    "How to add two lists element-wise in python?\n",
    "Difference between del and clear? clear - deletes all the elements. No del\n",
    "Difference between remove and pop? - remove - removes specified element, pop - removes based on index\n",
    "Difference between append and extend? - append - add elements to list as it is, entend - flattens the nested list and add \n",
    "Difference between indexing and Slicing?\n",
    "Difference between sort and sorted?\n",
    "Difference between reverse and reversed?\n",
    "Difference between copy and deepcopy?\n",
    "How to remove duplicate elements in the list?\n",
    "How to find an index of an element in the python list?\n",
    "How to find the occurrences of an element in the python list?\n",
    "How to insert an item at a given position?\n",
    "How to check if an item is in the list?\n",
    "How to flatten a list in python?\n",
    "How to convert python list to other data structures like set, tuple, dictionary?\n",
    "How to apply a function to all items in the list?\n",
    "How to filter the elements based on a function in a python list?\n",
    "How python lists are stored in memory?"
   ]
  },
  {
   "cell_type": "markdown",
   "metadata": {},
   "source": [
    "Remove elements in a list before a specific index "
   ]
  },
  {
   "cell_type": "code",
   "execution_count": 4,
   "metadata": {},
   "outputs": [
    {
     "name": "stdout",
     "output_type": "stream",
     "text": [
      "Enter index3\n"
     ]
    },
    {
     "data": {
      "text/plain": [
       "[40, 50]"
      ]
     },
     "execution_count": 4,
     "metadata": {},
     "output_type": "execute_result"
    }
   ],
   "source": [
    "l = [10,20,30,40,50]\n",
    "new = []\n",
    "indexval = int(input (\"Enter index\"))\n",
    "for i in range(indexval,len(l)):\n",
    "    new.append(l[i])\n",
    "new"
   ]
  },
  {
   "cell_type": "markdown",
   "metadata": {},
   "source": [
    "Remove elements in a list between 2 indices"
   ]
  },
  {
   "cell_type": "code",
   "execution_count": 6,
   "metadata": {},
   "outputs": [
    {
     "name": "stdout",
     "output_type": "stream",
     "text": [
      "Enter start index2\n",
      "Enter end index3\n"
     ]
    },
    {
     "data": {
      "text/plain": [
       "[10, 20, 40]"
      ]
     },
     "execution_count": 6,
     "metadata": {},
     "output_type": "execute_result"
    }
   ],
   "source": [
    "l = [10,20,30,40,50]\n",
    "startindex = int(input (\"Enter start index\"))\n",
    "endindex = int(input (\"Enter end index\"))\n",
    "for i in range(startindex,endindex+1):\n",
    "    l.pop(i)\n",
    "\n",
    "l"
   ]
  },
  {
   "cell_type": "markdown",
   "metadata": {},
   "source": [
    "Return every 2nd element in a list between 2 indices"
   ]
  },
  {
   "cell_type": "code",
   "execution_count": 9,
   "metadata": {},
   "outputs": [
    {
     "name": "stdout",
     "output_type": "stream",
     "text": [
      "Enter start index2\n",
      "Enter end index5\n"
     ]
    },
    {
     "data": {
      "text/plain": [
       "[30, 50]"
      ]
     },
     "execution_count": 9,
     "metadata": {},
     "output_type": "execute_result"
    }
   ],
   "source": [
    "l = [10,20,30,40,50,60,70,80,90]\n",
    "startindex = int(input (\"Enter start index\"))\n",
    "endindex = int(input (\"Enter end index\"))\n",
    "l[startindex:endindex:2]"
   ]
  },
  {
   "cell_type": "markdown",
   "metadata": {},
   "source": [
    "Get the first element from each nested list in a list"
   ]
  },
  {
   "cell_type": "code",
   "execution_count": 16,
   "metadata": {},
   "outputs": [
    {
     "name": "stdout",
     "output_type": "stream",
     "text": [
      "[10, 20, 30, [40, 400, 4000], 50, 60, [70, 700, 7000], 80, 90]\n",
      "40\n",
      "70\n"
     ]
    }
   ],
   "source": [
    "l = [10,20,30,[40,400,4000],50,60,[70,700,7000],80,90]\n",
    "print (l)\n",
    "for i in l:\n",
    "    if type(i) == list:\n",
    "        print (i[0])"
   ]
  },
  {
   "cell_type": "markdown",
   "metadata": {},
   "source": [
    "How to concatenate two lists?"
   ]
  },
  {
   "cell_type": "code",
   "execution_count": 18,
   "metadata": {},
   "outputs": [
    {
     "name": "stdout",
     "output_type": "stream",
     "text": [
      "[2, 3, 4, '5', 6, 8, 9, 0]\n"
     ]
    }
   ],
   "source": [
    "l1 = [2,3,4,'5']\n",
    "l2 = [6,8,9,0]\n",
    "print (l1 + l2)"
   ]
  },
  {
   "cell_type": "markdown",
   "metadata": {},
   "source": [
    "How to add two lists element-wise in python?"
   ]
  },
  {
   "cell_type": "code",
   "execution_count": 19,
   "metadata": {},
   "outputs": [
    {
     "data": {
      "text/plain": [
       "[8, 11, 13, 5]"
      ]
     },
     "execution_count": 19,
     "metadata": {},
     "output_type": "execute_result"
    }
   ],
   "source": [
    "l1 = [2,3,4,5]\n",
    "l2 = [6,8,9,0]\n",
    "sum = []\n",
    "for i,j in zip(l1,l2):\n",
    "    sum.append(i+j)\n",
    "sum"
   ]
  },
  {
   "cell_type": "code",
   "execution_count": null,
   "metadata": {},
   "outputs": [],
   "source": [
    "Difference between del and clear?\n",
    "Difference between remove and pop?\n",
    "Difference between append and extend?\n",
    "Difference between indexing and Slicing?\n",
    "Difference between sort and sorted?\n",
    "Difference between reverse and reversed?"
   ]
  },
  {
   "cell_type": "code",
   "execution_count": 25,
   "metadata": {},
   "outputs": [
    {
     "name": "stdout",
     "output_type": "stream",
     "text": [
      "[2, 3, 4, 5]\n",
      "[2, 4, 5]\n",
      "gyg []\n"
     ]
    }
   ],
   "source": [
    "l1 = [2,3,4,5]\n",
    "print (l1)\n",
    "l1.remove(3)\n",
    "print (l1)\n",
    "l1.clear()\n",
    "print(\"gyg\",l1)"
   ]
  },
  {
   "cell_type": "markdown",
   "metadata": {},
   "source": [
    "How to remove duplicate elements in the list?"
   ]
  },
  {
   "cell_type": "code",
   "execution_count": 29,
   "metadata": {},
   "outputs": [
    {
     "data": {
      "text/plain": [
       "[1, 2, 3]"
      ]
     },
     "execution_count": 29,
     "metadata": {},
     "output_type": "execute_result"
    }
   ],
   "source": [
    "listdata = [1,2,3,2,1,2,3,1,2,3]\n",
    "list(set(listdata))"
   ]
  },
  {
   "cell_type": "markdown",
   "metadata": {},
   "source": [
    "How to find an index of an element in the python list?"
   ]
  },
  {
   "cell_type": "code",
   "execution_count": 31,
   "metadata": {},
   "outputs": [
    {
     "data": {
      "text/plain": [
       "1"
      ]
     },
     "execution_count": 31,
     "metadata": {},
     "output_type": "execute_result"
    }
   ],
   "source": [
    "l1 = [20,30,40,50]\n",
    "l1.index(30)"
   ]
  },
  {
   "cell_type": "markdown",
   "metadata": {},
   "source": [
    "How to find the occurrences of an element in the python list?"
   ]
  },
  {
   "cell_type": "code",
   "execution_count": 32,
   "metadata": {},
   "outputs": [
    {
     "name": "stdout",
     "output_type": "stream",
     "text": [
      "50\n"
     ]
    },
    {
     "data": {
      "text/plain": [
       "3"
      ]
     },
     "execution_count": 32,
     "metadata": {},
     "output_type": "execute_result"
    }
   ],
   "source": [
    "l1 = [20,30,40,50,50,50]\n",
    "data = int(input())\n",
    "l1.count(data)"
   ]
  },
  {
   "cell_type": "markdown",
   "metadata": {},
   "source": [
    "How to insert an item at a given position?"
   ]
  },
  {
   "cell_type": "code",
   "execution_count": 35,
   "metadata": {},
   "outputs": [
    {
     "data": {
      "text/plain": [
       "[20, 30, 70, 40, 50, 50, 50]"
      ]
     },
     "execution_count": 35,
     "metadata": {},
     "output_type": "execute_result"
    }
   ],
   "source": [
    "l1 = [20,30,40,50,50,50]\n",
    "l1.insert(2,70)\n",
    "l1"
   ]
  },
  {
   "cell_type": "markdown",
   "metadata": {},
   "source": [
    "How to check if an item is in the list?"
   ]
  },
  {
   "cell_type": "code",
   "execution_count": 39,
   "metadata": {},
   "outputs": [
    {
     "name": "stdout",
     "output_type": "stream",
     "text": [
      "40\n",
      "Also present\n"
     ]
    }
   ],
   "source": [
    "l1 = [20,30,40,50,50,50]\n",
    "i =int(input())\n",
    "if l1.count(i) != 0:\n",
    "    print (\"Also present\")"
   ]
  },
  {
   "cell_type": "markdown",
   "metadata": {},
   "source": [
    "How to flatten a list in python?"
   ]
  },
  {
   "cell_type": "code",
   "execution_count": null,
   "metadata": {},
   "outputs": [],
   "source": [
    "l = [10, 20, 30, [40, 400, 4000], 50, 60, [70, 700, 7000], 80, 90]\n"
   ]
  }
 ],
 "metadata": {
  "kernelspec": {
   "display_name": "Python 3",
   "language": "python",
   "name": "python3"
  },
  "language_info": {
   "codemirror_mode": {
    "name": "ipython",
    "version": 3
   },
   "file_extension": ".py",
   "mimetype": "text/x-python",
   "name": "python",
   "nbconvert_exporter": "python",
   "pygments_lexer": "ipython3",
   "version": "3.7.9"
  }
 },
 "nbformat": 4,
 "nbformat_minor": 4
}
