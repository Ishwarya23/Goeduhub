{
 "cells": [
  {
   "cell_type": "markdown",
   "metadata": {},
   "source": [
    "Write a Python Program to sort (ascending and descending) a dictionary by value"
   ]
  },
  {
   "cell_type": "code",
   "execution_count": 4,
   "metadata": {},
   "outputs": [
    {
     "name": "stdout",
     "output_type": "stream",
     "text": [
      "[('phy', 90), ('soc', 92), ('sci', 98), ('maths', 99)]\n",
      "[('maths', 99), ('sci', 98), ('soc', 92), ('phy', 90)]\n"
     ]
    }
   ],
   "source": [
    "import operator\n",
    "dictdata = {'phy':90,'maths':99,'sci':98,'soc':92}\n",
    "print (sorted(dictdata.items(),key =operator.itemgetter(1)))\n",
    "print (sorted(dictdata.items(),key =operator.itemgetter(1),reverse=True))"
   ]
  },
  {
   "cell_type": "markdown",
   "metadata": {},
   "source": [
    "Write a Python Program to add a key to a dictionary. \n",
    "\n",
    "Sample Dictionary : {0: 10, 1: 20}\n",
    "Expected Result : {0: 10, 1: 20, 2: 30}"
   ]
  },
  {
   "cell_type": "code",
   "execution_count": 5,
   "metadata": {},
   "outputs": [
    {
     "data": {
      "text/plain": [
       "{0: 10, 1: 20, 2: 30}"
      ]
     },
     "execution_count": 5,
     "metadata": {},
     "output_type": "execute_result"
    }
   ],
   "source": [
    "d1 = {0: 10, 1: 20} \n",
    "d1[2] = 30\n",
    "d1"
   ]
  },
  {
   "cell_type": "markdown",
   "metadata": {},
   "source": [
    "Write a  program asks for City name and Temperature and builds a dictionary using that Later on you can input City name\n",
    "and it will tell you the Temperature of that City."
   ]
  },
  {
   "cell_type": "code",
   "execution_count": 7,
   "metadata": {},
   "outputs": [
    {
     "name": "stdout",
     "output_type": "stream",
     "text": [
      "Enter the city namemdu\n",
      "Enter the temp5\n",
      "Enter the city namesvk\n",
      "Enter the temp7\n",
      "Enter the city namekl\n",
      "Enter the temp3\n",
      "Enter the city namegg\n",
      "Enter the temp7\n",
      "Enter the city namepppa\n",
      "Enter the temp8\n",
      "Enter city name to retrieve tempgg\n"
     ]
    },
    {
     "data": {
      "text/plain": [
       "7"
      ]
     },
     "execution_count": 7,
     "metadata": {},
     "output_type": "execute_result"
    }
   ],
   "source": [
    "data = {}\n",
    "for i in range(5):\n",
    "    city = input(\"Enter the city name\")\n",
    "    temp = int(input(\"Enter the temp\"))\n",
    "    data[city] = temp\n",
    "\n",
    "inpt = input (\"Enter city name to retrieve temp\")\n",
    "data.get(inpt)"
   ]
  },
  {
   "cell_type": "markdown",
   "metadata": {},
   "source": [
    "Write a Python program to convert list to list of dictionaries.\n",
    "\n",
    "Sample lists: [\"Black\", \"Red\", \"Maroon\", \"Yellow\"], [\"#000000\", \"#FF0000\", \"#800000\", \"#FFFF00\"]\n",
    "\n",
    "Expected Output: [{'color_name': 'Black', 'color_code': '#000000'}, {'color_name': 'Red', 'color_code': '#FF0000'}, {'color_name': 'Maroon', 'color_code': '#800000'}, {'color_name': 'Yellow', 'color_code': '#FFFF00'}]"
   ]
  },
  {
   "cell_type": "code",
   "execution_count": 13,
   "metadata": {},
   "outputs": [
    {
     "data": {
      "text/plain": [
       "[{'color_name': 'Black', 'color_code': '#000000'},\n",
       " {'color_name': 'Red', 'color_code': '#FF0000'},\n",
       " {'color_name': 'Maroon', 'color_code': '#800000'},\n",
       " {'color_name': 'Yellow', 'color_code': '#FFFF00'}]"
      ]
     },
     "execution_count": 13,
     "metadata": {},
     "output_type": "execute_result"
    }
   ],
   "source": [
    "colorList = [\"Black\", \"Red\", \"Maroon\", \"Yellow\"]\n",
    "codeList = [\"#000000\", \"#FF0000\", \"#800000\", \"#FFFF00\"]\n",
    "res = []\n",
    "for color,code in zip(colorList,codeList):\n",
    "    colorDict = {}\n",
    "    colorDict[\"color_name\"] = color\n",
    "    colorDict[\"color_code\"] = code\n",
    "    res.append(colorDict)\n",
    "res"
   ]
  },
  {
   "cell_type": "markdown",
   "metadata": {},
   "source": [
    "We have following information on Employees and their Salary (Salary is in lakhs),\n",
    "\n",
    "Employee\tSalary\n",
    "John\t14\n",
    "Smith\t13\n",
    "Alice\t32\n",
    "Daneil\t21"
   ]
  },
  {
   "cell_type": "markdown",
   "metadata": {},
   "source": [
    "1.Using above create a dictionary of Employees and their Salary"
   ]
  },
  {
   "cell_type": "code",
   "execution_count": 14,
   "metadata": {},
   "outputs": [],
   "source": [
    "empDict = {'John':14,'Smith':13,'Alice':32,'Daneil':21}"
   ]
  },
  {
   "cell_type": "markdown",
   "metadata": {},
   "source": [
    "2.Write a program that asks user for three type of inputs,\n",
    "print: if user enter print then it should print all Employees with their Salary in this format,\n",
    "John ==>14\n",
    "Smith ==>13\n",
    "Alice ==>32\n",
    " Daneil ==>21"
   ]
  },
  {
   "cell_type": "code",
   "execution_count": 24,
   "metadata": {},
   "outputs": [
    {
     "name": "stdout",
     "output_type": "stream",
     "text": [
      "Enter ur choice 1.Print 2.Add 3.Remove 4.Query3\n",
      "Enter Employee to removeJohn\n",
      "Smith ==> 13\n",
      "Alice ==> 32\n",
      "Daneil ==> 21\n"
     ]
    }
   ],
   "source": [
    "def callPrint():\n",
    "    for name,salary in empDict.items():\n",
    "        print (name ,\"==>\", salary)\n",
    "\n",
    "def callAdd():\n",
    "    emp = input (\"Enter Employee\")\n",
    "    sal = int(input(\"Enter salary\"))\n",
    "    if emp in empDict.keys():\n",
    "        print (\"Employee already added\")\n",
    "    else:\n",
    "        empDict[emp] = sal\n",
    "        callPrint()\n",
    "    \n",
    "\n",
    "def callRemove():\n",
    "    emp = input (\"Enter Employee to remove\")\n",
    "    if emp in empDict.keys():\n",
    "        empDict.pop(emp)\n",
    "        callPrint()\n",
    "\n",
    "def callQuery():\n",
    "    pass\n",
    "\n",
    "empDict = {'John':14,'Smith':13,'Alice':32,'Daneil':21}\n",
    "inp = int(input (\"Enter ur choice 1.Print 2.Add 3.Remove 4.Query\" ))\n",
    "if inp == 1:\n",
    "    callPrint()\n",
    "elif inp == 2:\n",
    "    callAdd()\n",
    "elif inp == 3:\n",
    "    callRemove()\n",
    "elif inp == 4:\n",
    "    callQuery()"
   ]
  },
  {
   "cell_type": "markdown",
   "metadata": {},
   "source": [
    "Find the elements in a given set that are not in another set\n",
    "\n",
    "    set1 = {10,20,30,40,50}\n",
    "\n",
    "    set2 = {40,50,60,70,80}\n",
    "\n",
    " Difference between set1 and set2 is {10,20,30}"
   ]
  },
  {
   "cell_type": "code",
   "execution_count": 25,
   "metadata": {},
   "outputs": [
    {
     "name": "stdout",
     "output_type": "stream",
     "text": [
      "{10, 20, 30}\n"
     ]
    }
   ],
   "source": [
    "set1 = {10,20,30,40,50}\n",
    "set2 = {40,50,60,70,80}\n",
    "print (set1.difference(set2))"
   ]
  },
  {
   "cell_type": "markdown",
   "metadata": {},
   "source": [
    "What is the difference between a set and a frozenset? Create any set and try to use frozenset(setname)."
   ]
  },
  {
   "cell_type": "code",
   "execution_count": 29,
   "metadata": {},
   "outputs": [
    {
     "name": "stdout",
     "output_type": "stream",
     "text": [
      "{100, 40, 10, 50, 20, 30}\n"
     ]
    },
    {
     "ename": "AttributeError",
     "evalue": "'frozenset' object has no attribute 'add'",
     "output_type": "error",
     "traceback": [
      "\u001b[1;31m---------------------------------------------------------------------------\u001b[0m",
      "\u001b[1;31mAttributeError\u001b[0m                            Traceback (most recent call last)",
      "\u001b[1;32m<ipython-input-29-bf9902b0d7dc>\u001b[0m in \u001b[0;36m<module>\u001b[1;34m\u001b[0m\n\u001b[0;32m      3\u001b[0m \u001b[0mset1\u001b[0m\u001b[1;33m.\u001b[0m\u001b[0madd\u001b[0m\u001b[1;33m(\u001b[0m\u001b[1;36m100\u001b[0m\u001b[1;33m)\u001b[0m\u001b[1;33m\u001b[0m\u001b[1;33m\u001b[0m\u001b[0m\n\u001b[0;32m      4\u001b[0m \u001b[0mprint\u001b[0m \u001b[1;33m(\u001b[0m\u001b[0mset1\u001b[0m\u001b[1;33m)\u001b[0m\u001b[1;33m\u001b[0m\u001b[1;33m\u001b[0m\u001b[0m\n\u001b[1;32m----> 5\u001b[1;33m \u001b[0mfset\u001b[0m\u001b[1;33m.\u001b[0m\u001b[0madd\u001b[0m\u001b[1;33m(\u001b[0m\u001b[1;36m100\u001b[0m\u001b[1;33m)\u001b[0m\u001b[1;33m\u001b[0m\u001b[1;33m\u001b[0m\u001b[0m\n\u001b[0m",
      "\u001b[1;31mAttributeError\u001b[0m: 'frozenset' object has no attribute 'add'"
     ]
    }
   ],
   "source": [
    "set1 = {10,20,30,40,50}\n",
    "fset = frozenset(set1)\n",
    "set1.add(100)\n",
    "print (set1)\n",
    "fset.add(100)\n"
   ]
  },
  {
   "cell_type": "code",
   "execution_count": null,
   "metadata": {},
   "outputs": [],
   "source": []
  }
 ],
 "metadata": {
  "kernelspec": {
   "display_name": "Python 3",
   "language": "python",
   "name": "python3"
  },
  "language_info": {
   "codemirror_mode": {
    "name": "ipython",
    "version": 3
   },
   "file_extension": ".py",
   "mimetype": "text/x-python",
   "name": "python",
   "nbconvert_exporter": "python",
   "pygments_lexer": "ipython3",
   "version": "3.7.9"
  }
 },
 "nbformat": 4,
 "nbformat_minor": 4
}
